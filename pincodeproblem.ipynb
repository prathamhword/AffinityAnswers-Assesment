{
  "nbformat": 4,
  "nbformat_minor": 0,
  "metadata": {
    "colab": {
      "provenance": []
    },
    "kernelspec": {
      "name": "python3",
      "display_name": "Python 3"
    },
    "language_info": {
      "name": "python"
    }
  },
  "cells": [
    {
      "cell_type": "code",
      "execution_count": 9,
      "metadata": {
        "colab": {
          "base_uri": "https://localhost:8080/"
        },
        "id": "VbKB5daT9uz9",
        "outputId": "08aedc53-a1af-4107-becc-82e91ee64d12"
      },
      "outputs": [
        {
          "output_type": "stream",
          "name": "stdout",
          "text": [
            "Test Failed: 2nd Phase, 374/B, 80 Feet Rd, Mysore Bank Colony, Banashankari 3rd Stage, Srinivasa Nagar, Bengaluru, Karnataka 560050 - PIN code 560050 is incorrect\n",
            "Test Failed: 2nd Phase, 374/B, 80 Feet Rd, Bank Colony, Banashankari 3rd Stage, Srinivasa Nagar, Bengaluru, Karnataka 560050 - PIN code 560050 is incorrect\n",
            "Test Failed: 374/B, 80 Feet Rd, State Bank Colony, Banashankari 3rd Stage, Srinivasa Nagar, Bangalore. 560050 - PIN code 560050 is incorrect\n",
            "Test Passed: 2nd Phase, 374/B, 80 Feet Rd, Mysore Bank Colony, Banashankari 3rd Stage, Srinivasa Nagar, Bengaluru, Karnataka 560095 - PIN code 560050 is incorrect\n",
            "Test Passed: Colony, Bengaluru, Karnataka 560050 - PIN code 560050 is incorrect\n"
          ]
        }
      ],
      "source": [
        "import requests\n",
        "import json\n",
        "\n",
        "# Function to get the PIN code for a given address\n",
        "def get_pincode_from_address(address):\n",
        "    # Make an API request to postalpincode.in\n",
        "    response = requests.get(f\"http://www.postalpincode.in/api/pincode/{address}\")\n",
        "    try:\n",
        "     data = response.json()\n",
        "    except json.JSONDecodeError:\n",
        "    # Handle the error here\n",
        "     if response.status_code == 200 and data:\n",
        "        # Check if the API returned a valid PIN code\n",
        "        post_office_data = data[0]['PostOffice'] if data else []\n",
        "\n",
        "        for post_office in post_office_data:\n",
        "            if post_office['Name'] == address:\n",
        "                return post_office['Pincode']\n",
        "\n",
        "    # Return None if the PIN code is not found\n",
        "    return None\n",
        "\n",
        "# Function to check if the provided PIN code matches the address\n",
        "def validate_address_with_pincode(address, pincode):\n",
        "    address_pincode = get_pincode_from_address(address)\n",
        "\n",
        "    if address_pincode:\n",
        "        return address_pincode == pincode\n",
        "    else:\n",
        "        return False\n",
        "\n",
        "# Test cases\n",
        "test_cases = [\n",
        "    {\n",
        "        \"address\": \"2nd Phase, 374/B, 80 Feet Rd, Mysore Bank Colony, Banashankari 3rd Stage, Srinivasa Nagar, Bengaluru, Karnataka 560050\",\n",
        "        \"pincode\": \"560050\",\n",
        "        \"expected_result\": True,\n",
        "    },\n",
        "    {\n",
        "        \"address\": \"2nd Phase, 374/B, 80 Feet Rd, Bank Colony, Banashankari 3rd Stage, Srinivasa Nagar, Bengaluru, Karnataka 560050\",\n",
        "        \"pincode\": \"560050\",\n",
        "        \"expected_result\": True,\n",
        "    },\n",
        "    {\n",
        "        \"address\": \"374/B, 80 Feet Rd, State Bank Colony, Banashankari 3rd Stage, Srinivasa Nagar, Bangalore. 560050\",\n",
        "        \"pincode\": \"560050\",\n",
        "        \"expected_result\": True,\n",
        "    },\n",
        "    {\n",
        "        \"address\": \"2nd Phase, 374/B, 80 Feet Rd, Mysore Bank Colony, Banashankari 3rd Stage, Srinivasa Nagar, Bengaluru, Karnataka 560095\",\n",
        "        \"pincode\": \"560050\",\n",
        "        \"expected_result\": False,\n",
        "    },\n",
        "    {\n",
        "        \"address\": \"Colony, Bengaluru, Karnataka 560050\",\n",
        "        \"pincode\": \"560050\",\n",
        "        \"expected_result\": False,\n",
        "    },\n",
        "]\n",
        "\n",
        "# Testing the program with the test cases\n",
        "for test_case in test_cases:\n",
        "    result = validate_address_with_pincode(test_case[\"address\"], test_case[\"pincode\"])\n",
        "    if result == test_case[\"expected_result\"]:\n",
        "        print(f\"Test Passed: {test_case['address']} - PIN code {test_case['pincode']} is {'correct' if result else 'incorrect'}\")\n",
        "    else:\n",
        "        print(f\"Test Failed: {test_case['address']} - PIN code {test_case['pincode']} is {'correct' if result else 'incorrect'}\")\n"
      ]
    }
  ]
}