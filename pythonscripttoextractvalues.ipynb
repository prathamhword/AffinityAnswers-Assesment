{
  "nbformat": 4,
  "nbformat_minor": 0,
  "metadata": {
    "colab": {
      "provenance": []
    },
    "kernelspec": {
      "name": "python3",
      "display_name": "Python 3"
    },
    "language_info": {
      "name": "python"
    }
  },
  "cells": [
    {
      "cell_type": "code",
      "source": [
        "import requests\n",
        "\n",
        "# Define the URL\n",
        "URL = \"https://www.amfiindia.com/spages/NAVAll.txt\"\n",
        "\n",
        "# Define the output TSV file\n",
        "OUTPUT_FILE = \"amfi_data.tsv\"\n",
        "\n",
        "# Make a request to the URL\n",
        "response = requests.get(URL)\n",
        "\n",
        "# Check if the request was successful\n",
        "if response.status_code == 200:\n",
        "    data = response.text\n",
        "    lines = data.split(\"\\n\")\n",
        "\n",
        "    # Open the output file for writing\n",
        "    with open(OUTPUT_FILE, \"w\") as f:\n",
        "        for line in lines:\n",
        "            if line.strip():  # Skip empty lines\n",
        "                fields = line.split(\";\")\n",
        "                if len(fields) >= 11:\n",
        "                    scheme_name = fields[3]\n",
        "                    asset_value = fields[10]\n",
        "                    # Write the Scheme Name and Asset Value to the TSV file\n",
        "                    f.write(f\"{scheme_name}\\t{asset_value}\\n\")\n",
        "\n",
        "    print(\"Scheme Name and Asset Value extracted and saved in\", OUTPUT_FILE)\n",
        "else:\n",
        "    print(\"Failed to fetch data from the URL\")\n"
      ],
      "metadata": {
        "colab": {
          "base_uri": "https://localhost:8080/"
        },
        "id": "bVmUVpUkK8vq",
        "outputId": "72abcc0b-322c-4a79-e3b4-cb2c227c2600"
      },
      "execution_count": 19,
      "outputs": [
        {
          "output_type": "stream",
          "name": "stdout",
          "text": [
            "Scheme Name and Asset Value extracted and saved in amfi_data.tsv\n"
          ]
        }
      ]
    }
  ]
}